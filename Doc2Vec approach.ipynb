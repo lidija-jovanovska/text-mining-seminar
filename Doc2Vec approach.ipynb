{
 "cells": [
  {
   "cell_type": "code",
   "execution_count": 26,
   "metadata": {},
   "outputs": [],
   "source": [
    "import pandas as pd\n",
    "import numpy as np\n",
    "from tqdm import tqdm\n",
    "tqdm.pandas(desc=\"progress-bar\")\n",
    "from gensim.models import Doc2Vec\n",
    "from sklearn import utils\n",
    "from sklearn.model_selection import train_test_split\n",
    "import gensim\n",
    "from sklearn.linear_model import LogisticRegression\n",
    "from gensim.models.doc2vec import TaggedDocument\n",
    "import re\n",
    "import seaborn as sns\n",
    "import matplotlib.pyplot as plt"
   ]
  },
  {
   "cell_type": "code",
   "execution_count": 27,
   "metadata": {},
   "outputs": [
    {
     "data": {
      "text/html": [
       "<div>\n",
       "<style scoped>\n",
       "    .dataframe tbody tr th:only-of-type {\n",
       "        vertical-align: middle;\n",
       "    }\n",
       "\n",
       "    .dataframe tbody tr th {\n",
       "        vertical-align: top;\n",
       "    }\n",
       "\n",
       "    .dataframe thead th {\n",
       "        text-align: right;\n",
       "    }\n",
       "</style>\n",
       "<table border=\"1\" class=\"dataframe\">\n",
       "  <thead>\n",
       "    <tr style=\"text-align: right;\">\n",
       "      <th></th>\n",
       "      <th>stemmed</th>\n",
       "      <th>genre</th>\n",
       "    </tr>\n",
       "  </thead>\n",
       "  <tbody>\n",
       "    <tr>\n",
       "      <td>0</td>\n",
       "      <td>your everyth thought never noth like thought c...</td>\n",
       "      <td>Pop</td>\n",
       "    </tr>\n",
       "    <tr>\n",
       "      <td>1</td>\n",
       "      <td>bodi magnifi sun set alight bodi delight burn ...</td>\n",
       "      <td>Pop</td>\n",
       "    </tr>\n",
       "    <tr>\n",
       "      <td>2</td>\n",
       "      <td>i'm matriarch land oh need take hand come arm ...</td>\n",
       "      <td>Pop</td>\n",
       "    </tr>\n",
       "    <tr>\n",
       "      <td>3</td>\n",
       "      <td>vers i'm penthous half nake cook meal nake hel...</td>\n",
       "      <td>Pop</td>\n",
       "    </tr>\n",
       "    <tr>\n",
       "      <td>4</td>\n",
       "      <td>everi step make everi breath take took caus ca...</td>\n",
       "      <td>Pop</td>\n",
       "    </tr>\n",
       "    <tr>\n",
       "      <td>5</td>\n",
       "      <td>gift virgo virgo wish could look eye tell feel...</td>\n",
       "      <td>Pop</td>\n",
       "    </tr>\n",
       "    <tr>\n",
       "      <td>6</td>\n",
       "      <td>know hate sleepin alon said would soon home ba...</td>\n",
       "      <td>Pop</td>\n",
       "    </tr>\n",
       "    <tr>\n",
       "      <td>7</td>\n",
       "      <td>yee haw oh oh oh texa texa oh oh oh texa came ...</td>\n",
       "      <td>Pop</td>\n",
       "    </tr>\n",
       "    <tr>\n",
       "      <td>8</td>\n",
       "      <td>girl run mutha girl run mutha girl run mutha g...</td>\n",
       "      <td>Pop</td>\n",
       "    </tr>\n",
       "    <tr>\n",
       "      <td>9</td>\n",
       "      <td>beyonc ain't noth missi missi elliott exclus m...</td>\n",
       "      <td>Pop</td>\n",
       "    </tr>\n",
       "  </tbody>\n",
       "</table>\n",
       "</div>"
      ],
      "text/plain": [
       "                                             stemmed genre\n",
       "0  your everyth thought never noth like thought c...   Pop\n",
       "1  bodi magnifi sun set alight bodi delight burn ...   Pop\n",
       "2  i'm matriarch land oh need take hand come arm ...   Pop\n",
       "3  vers i'm penthous half nake cook meal nake hel...   Pop\n",
       "4  everi step make everi breath take took caus ca...   Pop\n",
       "5  gift virgo virgo wish could look eye tell feel...   Pop\n",
       "6  know hate sleepin alon said would soon home ba...   Pop\n",
       "7  yee haw oh oh oh texa texa oh oh oh texa came ...   Pop\n",
       "8  girl run mutha girl run mutha girl run mutha g...   Pop\n",
       "9  beyonc ain't noth missi missi elliott exclus m...   Pop"
      ]
     },
     "execution_count": 27,
     "metadata": {},
     "output_type": "execute_result"
    }
   ],
   "source": [
    "df = pd.read_csv('stemmed_for_pca.csv', index_col=0)\n",
    "df.head(10)"
   ]
  },
  {
   "cell_type": "code",
   "execution_count": 28,
   "metadata": {},
   "outputs": [
    {
     "data": {
      "text/plain": [
       "(26040, 2)"
      ]
     },
     "execution_count": 28,
     "metadata": {},
     "output_type": "execute_result"
    }
   ],
   "source": [
    "df.shape"
   ]
  },
  {
   "cell_type": "code",
   "execution_count": 29,
   "metadata": {},
   "outputs": [
    {
     "data": {
      "text/plain": [
       "stemmed    0\n",
       "genre      0\n",
       "dtype: int64"
      ]
     },
     "execution_count": 29,
     "metadata": {},
     "output_type": "execute_result"
    }
   ],
   "source": [
    "df.isnull().sum()"
   ]
  },
  {
   "cell_type": "markdown",
   "metadata": {},
   "source": [
    "Below, we define a function to label each complaint narrative. And the TaggedDocument is an object-type to encapsulate a text-example function that helps to associate a tag/number with each document of the training corpus. In our case, the tag is simply the zero based line number."
   ]
  },
  {
   "cell_type": "code",
   "execution_count": 30,
   "metadata": {},
   "outputs": [],
   "source": [
    "from gensim.models import doc2vec\n",
    "\n",
    "def label_sentences(corpus, label_type):\n",
    "    \"\"\"\n",
    "    Gensim's Doc2Vec implementation requires each document/paragraph to have a label associated with it.\n",
    "    We do this by using the TaggedDocument method. The format will be \"TRAIN_i\" or \"TEST_i\" where \"i\" is\n",
    "    a dummy index of the complaint narrative.\n",
    "    \"\"\"\n",
    "    labeled = []\n",
    "    for i, v in enumerate(corpus):\n",
    "        label = label_type + '_' + str(i)\n",
    "        labeled.append(doc2vec.TaggedDocument(v.split(), [label]))\n",
    "    return labeled"
   ]
  },
  {
   "cell_type": "code",
   "execution_count": 31,
   "metadata": {},
   "outputs": [],
   "source": [
    "X_train, X_test, y_train, y_test = train_test_split(df.stemmed, df.genre, random_state=0, test_size=0.3)\n",
    "X_train = label_sentences(X_train, 'Train')\n",
    "X_test = label_sentences(X_test, 'Test')\n",
    "all_data = X_train + X_test"
   ]
  },
  {
   "cell_type": "code",
   "execution_count": 32,
   "metadata": {},
   "outputs": [
    {
     "data": {
      "text/plain": [
       "26040"
      ]
     },
     "execution_count": 32,
     "metadata": {},
     "output_type": "execute_result"
    }
   ],
   "source": [
    "len(all_data)"
   ]
  },
  {
   "cell_type": "markdown",
   "metadata": {},
   "source": [
    "Let's take a look at the training corpus."
   ]
  },
  {
   "cell_type": "code",
   "execution_count": 33,
   "metadata": {},
   "outputs": [
    {
     "data": {
      "text/plain": [
       "[TaggedDocument(words=['rememb', 'seem', 'like', 'everyday', \"we'r\", 'start', 'go', 'day', 'better', 'other', 'get', 'tast', 'woman', 'grace', 'rememb', 'fall', 'get', 'back', 'uo', 'know', 'night', 'seem', 'like', 'gonna', 'rain', 'sometim', 'everyth', 'feel', 'wrong', 'feel', 'slip', \"i'm\", 'hold', 'gonna', 'alright', 'got', 'walk', 'stick', 'battlescar', \"we'v\", 'gone', 'door', 'never', 'open', 'get', 'tast', 'woman', 'grace', 'rememb', 'fall', 'get', 'back', 'know', 'night', 'seem', 'like', 'gonna', 'rain', 'sometim', 'everyth', 'feel', 'wrong', 'feel', 'slippin', \"i'm\", 'hold', 'gonna', 'alright', 'guitar', 'solo', 'rememb', 'fall', 'get', 'back', 'know', 'night', 'seem', 'like', 'go', 'rain', 'sometim', 'everyth', 'feel', 'wrong', 'gonna', 'alright'], tags=['Train_0']),\n",
       " TaggedDocument(words=[\"i'm\", 'restless', 'willow', 'windstorm', \"i'm\", 'jumpi', 'puppet', 'string', \"i'd\", 'say', 'spring', 'fever', 'know', 'spring', 'starri', 'eye', 'vagu', 'discont', 'like', 'nightingal', 'without', 'song', 'sing', 'oh', 'spring', 'fever', 'even', 'spring', 'keep', 'wish', 'somewher', 'els', 'walk', 'strang', 'new', 'street', 'hear', 'word', 'never', 'heard', 'girl', \"i'v\", 'yet', 'meet', \"i'm\", 'busi', 'spider', 'spin', 'daydream', \"i'm\", 'giddi', 'babi', 'swing', 'seen', 'crocus', 'rosebud', 'robin', 'wing', 'feel', 'gay', 'melancholi', 'way', 'might', 'well', 'spring'], tags=['Train_1'])]"
      ]
     },
     "execution_count": 33,
     "metadata": {},
     "output_type": "execute_result"
    }
   ],
   "source": [
    "all_data[:2]"
   ]
  },
  {
   "cell_type": "markdown",
   "metadata": {},
   "source": [
    "### Training the model\n",
    "\n",
    "We'll instantiate a Doc2Vec model-Distributed Bag of Words (DBOW). In the Word2Vec architecture, the two algorithm names are “continuous bag of words” (cbow) and “skip-gram” (sg); in the Doc2Vec architecture, the corresponding algorithms are “distributed bag of words” (dbow) and “distributed memory” (dm)."
   ]
  },
  {
   "cell_type": "markdown",
   "metadata": {},
   "source": [
    "### DBOW\n",
    "\n",
    "DBOW is the Doc2Vec model analogous to Skip-gram model in Word2Vec. The paragraph vectors are obtained by training a neural network on the task of predicting a probability distribution of words in a paragraph given a randomly-sampled word from the paragraph.\n",
    "\n",
    "Training a Doc2Vec model is rather straight forward in Gensim, we initialize the model and train for 30 epochs:"
   ]
  },
  {
   "cell_type": "markdown",
   "metadata": {},
   "source": [
    "dm =0 means ‘distributed bag of words’ (DBOW), set min_count=2 means ignoring all words with total frequency lower than this, size=100 is dimensionality of the generated feature vectors, alpha=0.025 is the initial alpha rate, learning rate will linearly drop to min_alpha as training progresses. And then we build a vocabulary."
   ]
  },
  {
   "cell_type": "code",
   "execution_count": 34,
   "metadata": {},
   "outputs": [
    {
     "name": "stderr",
     "output_type": "stream",
     "text": [
      "100%|███████████████████████████████████████████████████████████████████████| 26040/26040 [00:00<00:00, 2361404.40it/s]\n"
     ]
    }
   ],
   "source": [
    "model_dbow = Doc2Vec(dm=0, vector_size=300, negative=5, min_count=1, alpha=0.065, min_alpha=0.065)\n",
    "model_dbow.build_vocab([x for x in tqdm(all_data)])"
   ]
  },
  {
   "cell_type": "code",
   "execution_count": 35,
   "metadata": {},
   "outputs": [
    {
     "name": "stderr",
     "output_type": "stream",
     "text": [
      "100%|███████████████████████████████████████████████████████████████████████| 26040/26040 [00:00<00:00, 1736291.43it/s]\n",
      "100%|███████████████████████████████████████████████████████████████████████| 26040/26040 [00:00<00:00, 2369961.51it/s]\n",
      "100%|███████████████████████████████████████████████████████████████████████| 26040/26040 [00:00<00:00, 2367239.07it/s]\n",
      "100%|███████████████████████████████████████████████████████████████████████| 26040/26040 [00:00<00:00, 2894463.25it/s]\n",
      "100%|███████████████████████████████████████████████████████████████████████| 26040/26040 [00:00<00:00, 2367187.76it/s]\n",
      "100%|███████████████████████████████████████████████████████████████████████| 26040/26040 [00:00<00:00, 3263016.14it/s]\n",
      "100%|███████████████████████████████████████████████████████████████████████| 26040/26040 [00:00<00:00, 2171797.10it/s]\n",
      "100%|███████████████████████████████████████████████████████████████████████| 26040/26040 [00:00<00:00, 2892623.45it/s]\n",
      "100%|███████████████████████████████████████████████████████████████████████| 26040/26040 [00:00<00:00, 2893926.40it/s]\n",
      "100%|███████████████████████████████████████████████████████████████████████| 26040/26040 [00:00<00:00, 1997762.55it/s]\n",
      "100%|███████████████████████████████████████████████████████████████████████| 26040/26040 [00:00<00:00, 2170157.29it/s]\n",
      "100%|███████████████████████████████████████████████████████████████████████| 26040/26040 [00:00<00:00, 2003001.69it/s]\n",
      "100%|███████████████████████████████████████████████████████████████████████| 26040/26040 [00:00<00:00, 1001546.76it/s]\n",
      "100%|███████████████████████████████████████████████████████████████████████| 26040/26040 [00:00<00:00, 2880721.53it/s]\n",
      "100%|███████████████████████████████████████████████████████████████████████| 26040/26040 [00:00<00:00, 3256789.01it/s]\n",
      "100%|███████████████████████████████████████████████████████████████████████| 26040/26040 [00:00<00:00, 2606861.50it/s]\n",
      "100%|███████████████████████████████████████████████████████████████████████| 26040/26040 [00:00<00:00, 2367444.32it/s]\n",
      "100%|███████████████████████████████████████████████████████████████████████| 26040/26040 [00:00<00:00, 3271421.44it/s]\n",
      "100%|███████████████████████████████████████████████████████████████████████| 26040/26040 [00:00<00:00, 2170502.31it/s]\n",
      "100%|███████████████████████████████████████████████████████████████████████| 26040/26040 [00:00<00:00, 2607297.12it/s]\n",
      "100%|███████████████████████████████████████████████████████████████████████| 26040/26040 [00:00<00:00, 2367136.46it/s]\n",
      "100%|███████████████████████████████████████████████████████████████████████| 26040/26040 [00:00<00:00, 3263016.14it/s]\n",
      "100%|███████████████████████████████████████████████████████████████████████| 26040/26040 [00:00<00:00, 3254944.90it/s]\n",
      "100%|███████████████████████████████████████████████████████████████████████| 26040/26040 [00:00<00:00, 2898919.10it/s]\n",
      "100%|███████████████████████████████████████████████████████████████████████| 26040/26040 [00:00<00:00, 2371659.78it/s]\n",
      "100%|███████████████████████████████████████████████████████████████████████| 26040/26040 [00:00<00:00, 3254944.90it/s]\n",
      "100%|███████████████████████████████████████████████████████████████████████| 26040/26040 [00:00<00:00, 2893773.05it/s]\n",
      "100%|███████████████████████████████████████████████████████████████████████| 26040/26040 [00:00<00:00, 2604126.66it/s]\n",
      "100%|███████████████████████████████████████████████████████████████████████| 26040/26040 [00:00<00:00, 1735381.03it/s]\n",
      "100%|███████████████████████████████████████████████████████████████████████| 26040/26040 [00:00<00:00, 3259607.73it/s]\n"
     ]
    },
    {
     "name": "stdout",
     "output_type": "stream",
     "text": [
      "Wall time: 1min 40s\n"
     ]
    }
   ],
   "source": [
    "%%time\n",
    "for epoch in range(30):\n",
    "    model_dbow.train(utils.shuffle([x for x in tqdm(all_data)]), total_examples=len(all_data), epochs=1)\n",
    "    model_dbow.alpha -= 0.002\n",
    "    model_dbow.min_alpha = model_dbow.alpha"
   ]
  },
  {
   "cell_type": "markdown",
   "metadata": {},
   "source": [
    "Define a function to get the vectors."
   ]
  },
  {
   "cell_type": "code",
   "execution_count": 36,
   "metadata": {},
   "outputs": [],
   "source": [
    "def get_vectors(model, corpus_size, vectors_size, vectors_type):\n",
    "    \"\"\"\n",
    "    Get vectors from trained doc2vec model\n",
    "    :param doc2vec_model: Trained Doc2Vec model\n",
    "    :param corpus_size: Size of the data\n",
    "    :param vectors_size: Size of the embedding vectors\n",
    "    :param vectors_type: Training or Testing vectors\n",
    "    :return: list of vectors\n",
    "    \"\"\"\n",
    "    vectors = np.zeros((corpus_size, vectors_size))\n",
    "    for i in range(0, corpus_size):\n",
    "        prefix = vectors_type + '_' + str(i)\n",
    "        vectors[i] = model.docvecs[prefix]\n",
    "    return vectors"
   ]
  },
  {
   "cell_type": "code",
   "execution_count": 37,
   "metadata": {},
   "outputs": [],
   "source": [
    "train_vectors_dbow = get_vectors(model_dbow, len(X_train), 300, 'Train')\n",
    "test_vectors_dbow = get_vectors(model_dbow, len(X_test), 300, 'Test')"
   ]
  },
  {
   "cell_type": "code",
   "execution_count": 38,
   "metadata": {},
   "outputs": [
    {
     "data": {
      "text/plain": [
       "0.45622119815668205"
      ]
     },
     "execution_count": 38,
     "metadata": {},
     "output_type": "execute_result"
    }
   ],
   "source": [
    "from sklearn.linear_model import SGDClassifier\n",
    "\n",
    "sgd = SGDClassifier(alpha=0.0001, max_iter=1000, loss='log', penalty='l2', n_jobs=-1)\n",
    "sgd.fit(train_vectors_dbow, y_train)\n",
    "sgd.score(test_vectors_dbow, y_test)"
   ]
  },
  {
   "cell_type": "code",
   "execution_count": 39,
   "metadata": {},
   "outputs": [],
   "source": [
    "model_dbow.save('d2v_model_dbow.doc2vec')"
   ]
  },
  {
   "cell_type": "markdown",
   "metadata": {},
   "source": [
    "### Distributed Memory\n",
    "\n",
    "Distributed Memory (DM) acts as a memory that remembers what is missing from the current context — or as the topic of the paragraph. While the word vectors represent the concept of a word, the document vector intends to represent the concept of a document.\n",
    "\n",
    "We again instantiate a Doc2Vec model with a vector size with 100 words and iterating over the training corpus 30 times."
   ]
  },
  {
   "cell_type": "code",
   "execution_count": 40,
   "metadata": {},
   "outputs": [
    {
     "name": "stderr",
     "output_type": "stream",
     "text": [
      "100%|███████████████████████████████████████████████████████████████████████| 26040/26040 [00:00<00:00, 3256012.29it/s]\n"
     ]
    }
   ],
   "source": [
    "model_dm = Doc2Vec(dm=1, dm_mean=1, vector_size=300, window=10, negative=5, min_count=1, workers=5, alpha=0.065, min_alpha=0.065)\n",
    "model_dm.build_vocab([x for x in tqdm(all_data)])"
   ]
  },
  {
   "cell_type": "code",
   "execution_count": 41,
   "metadata": {},
   "outputs": [
    {
     "name": "stderr",
     "output_type": "stream",
     "text": [
      "100%|███████████████████████████████████████████████████████████████████████| 26040/26040 [00:00<00:00, 2609290.37it/s]\n",
      "100%|███████████████████████████████████████████████████████████████████████| 26040/26040 [00:00<00:00, 2898765.23it/s]\n",
      "100%|███████████████████████████████████████████████████████████████████████| 26040/26040 [00:00<00:00, 2895998.20it/s]\n",
      "100%|███████████████████████████████████████████████████████████████████████| 26040/26040 [00:00<00:00, 3255624.07it/s]\n",
      "100%|███████████████████████████████████████████████████████████████████████| 26040/26040 [00:00<00:00, 2894079.76it/s]\n",
      "100%|███████████████████████████████████████████████████████████████████████| 26040/26040 [00:00<00:00, 3254750.91it/s]\n",
      "100%|███████████████████████████████████████████████████████████████████████| 26040/26040 [00:00<00:00, 2889103.70it/s]\n",
      "100%|███████████████████████████████████████████████████████████████████████| 26040/26040 [00:00<00:00, 3256206.43it/s]\n",
      "100%|███████████████████████████████████████████████████████████████████████| 26040/26040 [00:00<00:00, 2893236.45it/s]\n",
      "100%|███████████████████████████████████████████████████████████████████████| 26040/26040 [00:00<00:00, 2893389.75it/s]\n",
      "100%|███████████████████████████████████████████████████████████████████████| 26040/26040 [00:00<00:00, 2604126.66it/s]\n",
      "100%|███████████████████████████████████████████████████████████████████████| 26040/26040 [00:00<00:00, 3255624.07it/s]\n",
      "100%|███████████████████████████████████████████████████████████████████████| 26040/26040 [00:00<00:00, 2894309.84it/s]\n",
      "100%|███████████████████████████████████████████████████████████████████████| 26040/26040 [00:00<00:00, 1859754.74it/s]\n",
      "100%|███████████████████████████████████████████████████████████████████████| 26040/26040 [00:00<00:00, 3262333.89it/s]\n",
      "100%|███████████████████████████████████████████████████████████████████████| 26040/26040 [00:00<00:00, 3256400.60it/s]\n",
      "100%|███████████████████████████████████████████████████████████████████████| 26040/26040 [00:00<00:00, 2003699.87it/s]\n",
      "100%|███████████████████████████████████████████████████████████████████████| 26040/26040 [00:00<00:00, 3254072.11it/s]\n",
      "100%|███████████████████████████████████████████████████████████████████████| 26040/26040 [00:00<00:00, 2367598.28it/s]\n",
      "100%|███████████████████████████████████████████████████████████████████████| 26040/26040 [00:00<00:00, 3255235.94it/s]\n",
      "100%|███████████████████████████████████████████████████████████████████████| 26040/26040 [00:00<00:00, 3262431.33it/s]\n",
      "100%|███████████████████████████████████████████████████████████████████████| 26040/26040 [00:00<00:00, 3255332.96it/s]\n",
      "100%|███████████████████████████████████████████████████████████████████████| 26040/26040 [00:00<00:00, 3255041.91it/s]\n",
      "100%|███████████████████████████████████████████████████████████████████████| 26040/26040 [00:00<00:00, 3255235.94it/s]\n",
      "100%|███████████████████████████████████████████████████████████████████████| 26040/26040 [00:00<00:00, 2894233.14it/s]\n",
      "100%|███████████████████████████████████████████████████████████████████████| 26040/26040 [00:00<00:00, 3255624.07it/s]\n",
      "100%|███████████████████████████████████████████████████████████████████████| 26040/26040 [00:00<00:00, 2605182.62it/s]\n",
      "100%|███████████████████████████████████████████████████████████████████████| 26040/26040 [00:00<00:00, 2367187.76it/s]\n",
      "100%|███████████████████████████████████████████████████████████████████████| 26040/26040 [00:00<00:00, 3255138.92it/s]\n",
      "100%|███████████████████████████████████████████████████████████████████████| 26040/26040 [00:00<00:00, 2896382.19it/s]\n"
     ]
    },
    {
     "name": "stdout",
     "output_type": "stream",
     "text": [
      "Wall time: 2min 13s\n"
     ]
    }
   ],
   "source": [
    "%%time\n",
    "for epoch in range(30):\n",
    "    model_dm.train(utils.shuffle([x for x in tqdm(all_data)]), total_examples=len(all_data), epochs=1)\n",
    "    model_dm.alpha -= 0.002\n",
    "    model_dm.min_alpha = model_dm.alpha"
   ]
  },
  {
   "cell_type": "code",
   "execution_count": 42,
   "metadata": {},
   "outputs": [],
   "source": [
    "train_vectors_dm = get_vectors(model_dm, len(X_train), 300, 'Train')\n",
    "test_vectors_dm = get_vectors(model_dm, len(X_test), 300, 'Test')"
   ]
  },
  {
   "cell_type": "code",
   "execution_count": 43,
   "metadata": {},
   "outputs": [
    {
     "data": {
      "text/plain": [
       "SGDClassifier(alpha=0.0001, average=False, class_weight=None,\n",
       "              early_stopping=False, epsilon=0.1, eta0=0.0, fit_intercept=True,\n",
       "              l1_ratio=0.15, learning_rate='optimal', loss='log', max_iter=1000,\n",
       "              n_iter_no_change=5, n_jobs=-1, penalty='l2', power_t=0.5,\n",
       "              random_state=None, shuffle=True, tol=0.001,\n",
       "              validation_fraction=0.1, verbose=0, warm_start=False)"
      ]
     },
     "execution_count": 43,
     "metadata": {},
     "output_type": "execute_result"
    }
   ],
   "source": [
    "sgd.fit(train_vectors_dm, y_train)"
   ]
  },
  {
   "cell_type": "code",
   "execution_count": 44,
   "metadata": {},
   "outputs": [
    {
     "data": {
      "text/plain": [
       "0.4015616999487967"
      ]
     },
     "execution_count": 44,
     "metadata": {},
     "output_type": "execute_result"
    }
   ],
   "source": [
    "sgd.score(test_vectors_dm, y_test)"
   ]
  },
  {
   "cell_type": "code",
   "execution_count": 45,
   "metadata": {},
   "outputs": [],
   "source": [
    "model_dm.save('d2v_model_dm.doc2vec')"
   ]
  },
  {
   "cell_type": "code",
   "execution_count": 70,
   "metadata": {},
   "outputs": [
    {
     "name": "stderr",
     "output_type": "stream",
     "text": [
      "No handles with labels found to put in legend.\n"
     ]
    },
    {
     "data": {
      "image/png": "[encoded data removed]",
      "text/plain": [
       "<Figure size 720x576 with 1 Axes>"
      ]
     },
     "metadata": {
      "needs_background": "light"
     },
     "output_type": "display_data"
    }
   ],
   "source": [
    "from matplotlib.ticker import MaxNLocator\n",
    "from collections import namedtuple\n",
    "\n",
    "\n",
    "fig, ax = plt.subplots(figsize = (10, 8))\n",
    "index = np.arange(2)\n",
    "bar_width = 0.2\n",
    "accuracy = [0.45622119815668205, 0.4015616999487967]\n",
    "\n",
    "opacity = 0.5\n",
    "error_config = {'ecolor': '0.3'}\n",
    "\n",
    "bars = ax.bar(index/2 + bar_width, accuracy, bar_width,\n",
    "                alpha=opacity, color='r', align='center')\n",
    "\n",
    "ax.set_xlabel('Model', fontsize = 14)\n",
    "ax.set_ylabel('Accuracy', fontsize = 14)\n",
    "ax.set_title('DBOW vs. DM comparison',  fontsize = 18)\n",
    "ax.set_xticks(index/2 + bar_width)\n",
    "ax.set_xticklabels(['DBOW', 'DM'])\n",
    "\n",
    "ax.legend()\n",
    "\n",
    "\n",
    "plt.show()"
   ]
  },
  {
   "cell_type": "code",
   "execution_count": null,
   "metadata": {},
   "outputs": [],
   "source": []
  }
 ],
 "metadata": {
  "kernelspec": {
   "display_name": "Python 3",
   "language": "python",
   "name": "python3"
  },
  "language_info": {
   "codemirror_mode": {
    "name": "ipython",
    "version": 3
   },
   "file_extension": ".py",
   "mimetype": "text/x-python",
   "name": "python",
   "nbconvert_exporter": "python",
   "pygments_lexer": "ipython3",
   "version": "3.7.4"
  },
  "varInspector": {
   "cols": {
    "lenName": 16,
    "lenType": 16,
    "lenVar": 40
   },
   "kernels_config": {
    "python": {
     "delete_cmd_postfix": "",
     "delete_cmd_prefix": "del ",
     "library": "var_list.py",
     "varRefreshCmd": "print(var_dic_list())"
    },
    "r": {
     "delete_cmd_postfix": ") ",
     "delete_cmd_prefix": "rm(",
     "library": "var_list.r",
     "varRefreshCmd": "cat(var_dic_list()) "
    }
   },
   "types_to_exclude": [
    "module",
    "function",
    "builtin_function_or_method",
    "instance",
    "_Feature"
   ],
   "window_display": false
  }
 },
 "nbformat": 4,
 "nbformat_minor": 2
}
