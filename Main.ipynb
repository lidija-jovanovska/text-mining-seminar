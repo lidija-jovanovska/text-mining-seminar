{
 "cells": [
  {
   "cell_type": "code",
   "execution_count": 1,
   "metadata": {
    "colab": {},
    "colab_type": "code",
    "id": "OtG1hQSHlitp",
    "scrolled": true
   },
   "outputs": [],
   "source": [
    "import pandas as pd\n",
    "import seaborn as sns\n",
    "import numpy as np\n",
    "import matplotlib.pyplot as plt\n",
    "%matplotlib inline\n",
    "import nltk\n",
    "import sklearn\n",
    "import nltk.collocations \n",
    "from nltk import FreqDist, word_tokenize\n",
    "from sklearn.feature_extraction.text import TfidfVectorizer\n",
    "from sklearn.feature_extraction.text import CountVectorizer, TfidfTransformer\n",
    "from sklearn.metrics import accuracy_score\n",
    "from sklearn.model_selection import GridSearchCV\n",
    "import string, re\n",
    "import urllib\n",
    "from sklearn.model_selection import train_test_split\n",
    "from sklearn.metrics import accuracy_score, confusion_matrix, classification_report\n",
    "from sklearn.ensemble import RandomForestClassifier\n",
    "import xgboost as xgb\n",
    "from nltk.stem import WordNetLemmatizer\n",
    "from nltk.stem.snowball import SnowballStemmer\n",
    "from nltk.corpus import stopwords\n",
    "from sklearn.decomposition import PCA\n",
    "from sklearn.naive_bayes import MultinomialNB, GaussianNB\n",
    "from sklearn.model_selection import cross_validate\n",
    "from sklearn import svm\n",
    "from sklearn.pipeline import Pipeline\n",
    "from sklearn.ensemble import AdaBoostClassifier, GradientBoostingClassifier\n",
    "from sklearn.neighbors import KNeighborsClassifier\n",
    "from sklearn.linear_model import SGDClassifier"
   ]
  },
  {
   "cell_type": "code",
   "execution_count": 20,
   "metadata": {},
   "outputs": [
    {
     "name": "stderr",
     "output_type": "stream",
     "text": [
      "[nltk_data] Downloading package words to\n",
      "[nltk_data]     C:\\Users\\lidij\\AppData\\Roaming\\nltk_data...\n",
      "[nltk_data]   Package words is already up-to-date!\n",
      "[nltk_data] Downloading package stopwords to\n",
      "[nltk_data]     C:\\Users\\lidij\\AppData\\Roaming\\nltk_data...\n",
      "[nltk_data]   Package stopwords is already up-to-date!\n",
      "[nltk_data] Downloading package punkt to\n",
      "[nltk_data]     C:\\Users\\lidij\\AppData\\Roaming\\nltk_data...\n",
      "[nltk_data]   Package punkt is already up-to-date!\n"
     ]
    },
    {
     "data": {
      "text/plain": [
       "True"
      ]
     },
     "execution_count": 20,
     "metadata": {},
     "output_type": "execute_result"
    }
   ],
   "source": [
    "nltk.download('words')\n",
    "nltk.download('stopwords')\n",
    "nltk.download('punkt')"
   ]
  },
  {
   "cell_type": "code",
   "execution_count": 2,
   "metadata": {
    "colab": {},
    "colab_type": "code",
    "id": "AXZ2V8Ozlit1"
   },
   "outputs": [
    {
     "data": {
      "text/html": [
       "<div>\n",
       "<style scoped>\n",
       "    .dataframe tbody tr th:only-of-type {\n",
       "        vertical-align: middle;\n",
       "    }\n",
       "\n",
       "    .dataframe tbody tr th {\n",
       "        vertical-align: top;\n",
       "    }\n",
       "\n",
       "    .dataframe thead th {\n",
       "        text-align: right;\n",
       "    }\n",
       "</style>\n",
       "<table border=\"1\" class=\"dataframe\">\n",
       "  <thead>\n",
       "    <tr style=\"text-align: right;\">\n",
       "      <th></th>\n",
       "      <th>song</th>\n",
       "      <th>year</th>\n",
       "      <th>artist</th>\n",
       "      <th>genre</th>\n",
       "      <th>lyrics</th>\n",
       "      <th>word_count</th>\n",
       "    </tr>\n",
       "  </thead>\n",
       "  <tbody>\n",
       "    <tr>\n",
       "      <td>0</td>\n",
       "      <td>No Broken Hearted Girl</td>\n",
       "      <td>2009</td>\n",
       "      <td>beyonce-knowles</td>\n",
       "      <td>Pop</td>\n",
       "      <td>Youre everything I thought you never were\\nAnd...</td>\n",
       "      <td>468</td>\n",
       "    </tr>\n",
       "    <tr>\n",
       "      <td>1</td>\n",
       "      <td>Standing On The Sun</td>\n",
       "      <td>2013</td>\n",
       "      <td>beyonce-knowles</td>\n",
       "      <td>Pop</td>\n",
       "      <td>My body is magnified\\nIn the sun set me alight...</td>\n",
       "      <td>421</td>\n",
       "    </tr>\n",
       "    <tr>\n",
       "      <td>2</td>\n",
       "      <td>Rise Up</td>\n",
       "      <td>2013</td>\n",
       "      <td>beyonce-knowles</td>\n",
       "      <td>Pop</td>\n",
       "      <td>I'm the matriarch of your land OH\\nWhen you ne...</td>\n",
       "      <td>341</td>\n",
       "    </tr>\n",
       "    <tr>\n",
       "      <td>3</td>\n",
       "      <td>Jealous</td>\n",
       "      <td>2013</td>\n",
       "      <td>beyonce-knowles</td>\n",
       "      <td>Pop</td>\n",
       "      <td>[Verse 1]\\nI'm in my penthouse half naked\\nI c...</td>\n",
       "      <td>264</td>\n",
       "    </tr>\n",
       "    <tr>\n",
       "      <td>4</td>\n",
       "      <td>Everything I Do</td>\n",
       "      <td>2006</td>\n",
       "      <td>beyonce-knowles</td>\n",
       "      <td>Pop</td>\n",
       "      <td>Every step I make\\nAnd every breath I take\\nI ...</td>\n",
       "      <td>281</td>\n",
       "    </tr>\n",
       "  </tbody>\n",
       "</table>\n",
       "</div>"
      ],
      "text/plain": [
       "                     song  year           artist genre  \\\n",
       "0  No Broken Hearted Girl  2009  beyonce-knowles   Pop   \n",
       "1     Standing On The Sun  2013  beyonce-knowles   Pop   \n",
       "2                 Rise Up  2013  beyonce-knowles   Pop   \n",
       "3                 Jealous  2013  beyonce-knowles   Pop   \n",
       "4         Everything I Do  2006  beyonce-knowles   Pop   \n",
       "\n",
       "                                              lyrics  word_count  \n",
       "0  Youre everything I thought you never were\\nAnd...         468  \n",
       "1  My body is magnified\\nIn the sun set me alight...         421  \n",
       "2  I'm the matriarch of your land OH\\nWhen you ne...         341  \n",
       "3  [Verse 1]\\nI'm in my penthouse half naked\\nI c...         264  \n",
       "4  Every step I make\\nAnd every breath I take\\nI ...         281  "
      ]
     },
     "execution_count": 2,
     "metadata": {},
     "output_type": "execute_result"
    }
   ],
   "source": [
    "local_path = 'clean_data.csv'\n",
    "df = pd.read_csv(local_path, index_col=0)\n",
    "df.head()"
   ]
  },
  {
   "cell_type": "markdown",
   "metadata": {
    "colab_type": "text",
    "id": "kGChQ4TRliwc"
   },
   "source": [
    "### Lyrics preprocessing"
   ]
  },
  {
   "cell_type": "code",
   "execution_count": 3,
   "metadata": {
    "colab": {},
    "colab_type": "code",
    "id": "JtRSoaLSliwe"
   },
   "outputs": [],
   "source": [
    "def clean_lyrics(lyrics_list, lemma=True):\n",
    "    \n",
    "    cleaned = []\n",
    "    pattern = \"([a-zA-Z]+(?:'[a-z]+)?)\"\n",
    "    english = list(set(nltk.corpus.words.words()))\n",
    "    \n",
    "    if lemma == True:\n",
    "        lemmatizer = WordNetLemmatizer()\n",
    "    else:\n",
    "        stemmer = SnowballStemmer(\"english\")\n",
    "    \n",
    "    for lyric in lyrics_list:\n",
    "        clean_lyric = nltk.regexp_tokenize(lyric, pattern)\n",
    "        lyric_lower = [i.lower() for i in clean_lyric]\n",
    "        stop_words = stopwords.words('english')\n",
    "        stopwords_list = stop_words + list(string.punctuation) + [\"''\", '\"\"', '...', '``']\n",
    "#         stopwords_list += [\"''\", '\"\"', '...', '``']\n",
    "        lyrics_tokens_stopped = [w for w in lyric_lower if not w in stopwords_list]\n",
    "        if lemma == True:\n",
    "            lyric_lemmas = [lemmatizer.lemmatize(word) for word in lyrics_tokens_stopped]\n",
    "            c = \" \".join(lyric_lemmas)\n",
    "            cleaned.append(c)\n",
    "        else:\n",
    "            lyric_stemmas = [stemmer.stem(word) for word in lyrics_tokens_stopped]\n",
    "            c = \" \".join(lyric_stemmas)\n",
    "            cleaned.append(c)\n",
    "            \n",
    "    return cleaned"
   ]
  },
  {
   "cell_type": "markdown",
   "metadata": {
    "colab_type": "text",
    "id": "MBiW5kecliwy"
   },
   "source": [
    "### Lemmatizing vs Stemmatizing"
   ]
  },
  {
   "cell_type": "code",
   "execution_count": 4,
   "metadata": {
    "colab": {},
    "colab_type": "code",
    "id": "GicIgJLvliwo"
   },
   "outputs": [],
   "source": [
    "# lemmatized_lyrics = clean_lyrics(list(df.lyrics))\n",
    "stemmed_lyrics = clean_lyrics(list(df.lyrics), lemma=False)"
   ]
  },
  {
   "cell_type": "code",
   "execution_count": 26,
   "metadata": {
    "colab": {
     "base_uri": "https://localhost:8080/",
     "height": 34
    },
    "colab_type": "code",
    "executionInfo": {
     "elapsed": 74256,
     "status": "ok",
     "timestamp": 1588456198934,
     "user": {
      "displayName": "Lidija Jovanovska",
      "photoUrl": "https://lh3.googleusercontent.com/a-/AOh14Ghp2NLy9yPzbocgs986BfFVafE4Nh74WKF6EOyPZS4=s64",
      "userId": "06083041837428350144"
     },
     "user_tz": -120
    },
    "id": "22CjdJc1liw-",
    "outputId": "2e9c989b-d2a9-43e6-b45a-3024b311b52c",
    "scrolled": true
   },
   "outputs": [
    {
     "data": {
      "text/plain": [
       "48542"
      ]
     },
     "execution_count": 26,
     "metadata": {},
     "output_type": "execute_result"
    }
   ],
   "source": [
    "len(set(nltk.word_tokenize(\" \".join(stemmed_lyrics))))"
   ]
  },
  {
   "cell_type": "code",
   "execution_count": 53,
   "metadata": {},
   "outputs": [
    {
     "data": {
      "text/plain": [
       "61330"
      ]
     },
     "execution_count": 53,
     "metadata": {},
     "output_type": "execute_result"
    }
   ],
   "source": [
    "len(set(nltk.word_tokenize(\" \".join(lemmatized_lyrics))))"
   ]
  },
  {
   "cell_type": "code",
   "execution_count": 61,
   "metadata": {
    "colab": {},
    "colab_type": "code",
    "id": "NKWwV0vYlixe",
    "scrolled": true
   },
   "outputs": [],
   "source": [
    "def classify(X, y=df.genre):\n",
    "\n",
    "    pipe_NB = Pipeline([('count_vectorizer', CountVectorizer()), \n",
    "                         ('tfidf_vectorizer', TfidfTransformer()),\n",
    "                         ('clf', MultinomialNB())\n",
    "                        ])\n",
    "\n",
    "    pipe_GBoost = Pipeline([('count_vectorizer', CountVectorizer()), \n",
    "                         ('tfidf_vectorizer', TfidfTransformer()),\n",
    "                         ('clf', GradientBoostingClassifier(learning_rate=0.3))\n",
    "                        ])\n",
    "\n",
    "    pipe_RF = Pipeline([('count_vectorizer', CountVectorizer()), \n",
    "                         ('tfidf_vectorizer', TfidfTransformer()),\n",
    "                         ('clf', RandomForestClassifier())\n",
    "                        ])\n",
    "\n",
    "    pipe_ADA = Pipeline([('count_vectorizer', CountVectorizer()), \n",
    "                         ('tfidf_vectorizer', TfidfTransformer()),\n",
    "                         ('clf', AdaBoostClassifier(learning_rate=0.3))\n",
    "                        ])\n",
    "\n",
    "    pipe_KNN = Pipeline([('count_vectorizer', CountVectorizer()), \n",
    "                         ('tfidf_vectorizer', TfidfTransformer()),\n",
    "                         ('clf', KNeighborsClassifier())\n",
    "                        ])\n",
    "\n",
    "    pipe_SGD = Pipeline([('count_vectorizer', CountVectorizer()),\n",
    "                        ('tfidf_vectorizer', TfidfTransformer()),\n",
    "                        ('clf', SGDClassifier(loss='hinge', penalty='l2',alpha=1e-3, random_state=42, max_iter=5, tol=None)),\n",
    "                       ])\n",
    "    pipe_SVM = Pipeline([('count_vectorizer', CountVectorizer()),\n",
    "                        ('tfidf_vectorizer', TfidfTransformer()),\n",
    "                        ('clf', svm.SVC(kernel='linear'))])\n",
    "\n",
    "    pipelines = [pipe_NB, pipe_GBoost, pipe_RF, pipe_ADA, pipe_KNN, pipe_SGD, pipe_SVM]\n",
    "    pipeline_names = ['Multinomial NB', \"Gboost\", 'Random Forest', 'ADA', \"KNN\", \"SGD\", \"SVM\"]\n",
    "    scores = dict.fromkeys(pipeline_names, 0)\n",
    "    scoring = ['f1_micro', 'f1_macro', 'precision_macro', 'recall_macro']\n",
    "\n",
    "    for pipe, name in zip(pipelines, pipeline_names):\n",
    "        print(pipe)\n",
    "        score = cross_validate(pipe, X, y, cv=5, scoring=scoring)\n",
    "        scores[name] = score\n",
    "        print('%s pipeline test accuracy: %.3f, f1_macro: %.3f' % (name, scores[name]['test_f1_micro'].mean(), \n",
    "                                                                    scores[name]['test_f1_macro'].mean()))\n",
    "    return scores"
   ]
  },
  {
   "cell_type": "code",
   "execution_count": 62,
   "metadata": {
    "scrolled": true
   },
   "outputs": [
    {
     "name": "stdout",
     "output_type": "stream",
     "text": [
      "Pipeline(memory=None,\n",
      "         steps=[('count_vectorizer',\n",
      "                 CountVectorizer(analyzer='word', binary=False,\n",
      "                                 decode_error='strict',\n",
      "                                 dtype=<class 'numpy.int64'>, encoding='utf-8',\n",
      "                                 input='content', lowercase=True, max_df=1.0,\n",
      "                                 max_features=None, min_df=1,\n",
      "                                 ngram_range=(1, 1), preprocessor=None,\n",
      "                                 stop_words=None, strip_accents=None,\n",
      "                                 token_pattern='(?u)\\\\b\\\\w\\\\w+\\\\b',\n",
      "                                 tokenizer=None, vocabulary=None)),\n",
      "                ('tfidf_vectorizer',\n",
      "                 TfidfTransformer(norm='l2', smooth_idf=True,\n",
      "                                  sublinear_tf=False, use_idf=True)),\n",
      "                ('clf',\n",
      "                 MultinomialNB(alpha=1.0, class_prior=None, fit_prior=True))],\n",
      "         verbose=False)\n",
      "Multinomial NB pipeline test accuracy: 0.431, f1_macro: 0.392\n",
      "Pipeline(memory=None,\n",
      "         steps=[('count_vectorizer',\n",
      "                 CountVectorizer(analyzer='word', binary=False,\n",
      "                                 decode_error='strict',\n",
      "                                 dtype=<class 'numpy.int64'>, encoding='utf-8',\n",
      "                                 input='content', lowercase=True, max_df=1.0,\n",
      "                                 max_features=None, min_df=1,\n",
      "                                 ngram_range=(1, 1), preprocessor=None,\n",
      "                                 stop_words=None, strip_accents=None,\n",
      "                                 token_pattern='(?u)\\\\b\\\\w\\\\w+\\\\b',\n",
      "                                 tokenizer=None, vo...\n",
      "                                            learning_rate=0.3, loss='deviance',\n",
      "                                            max_depth=3, max_features=None,\n",
      "                                            max_leaf_nodes=None,\n",
      "                                            min_impurity_decrease=0.0,\n",
      "                                            min_impurity_split=None,\n",
      "                                            min_samples_leaf=1,\n",
      "                                            min_samples_split=2,\n",
      "                                            min_weight_fraction_leaf=0.0,\n",
      "                                            n_estimators=100,\n",
      "                                            n_iter_no_change=None,\n",
      "                                            presort='auto', random_state=None,\n",
      "                                            subsample=1.0, tol=0.0001,\n",
      "                                            validation_fraction=0.1, verbose=0,\n",
      "                                            warm_start=False))],\n",
      "         verbose=False)\n",
      "Gboost pipeline test accuracy: 0.414, f1_macro: 0.411\n",
      "Pipeline(memory=None,\n",
      "         steps=[('count_vectorizer',\n",
      "                 CountVectorizer(analyzer='word', binary=False,\n",
      "                                 decode_error='strict',\n",
      "                                 dtype=<class 'numpy.int64'>, encoding='utf-8',\n",
      "                                 input='content', lowercase=True, max_df=1.0,\n",
      "                                 max_features=None, min_df=1,\n",
      "                                 ngram_range=(1, 1), preprocessor=None,\n",
      "                                 stop_words=None, strip_accents=None,\n",
      "                                 token_pattern='(?u)\\\\b\\\\w\\\\w+\\\\b',\n",
      "                                 tokenizer=None, vo...\n",
      "                 RandomForestClassifier(bootstrap=True, class_weight=None,\n",
      "                                        criterion='gini', max_depth=None,\n",
      "                                        max_features='auto',\n",
      "                                        max_leaf_nodes=None,\n",
      "                                        min_impurity_decrease=0.0,\n",
      "                                        min_impurity_split=None,\n",
      "                                        min_samples_leaf=1, min_samples_split=2,\n",
      "                                        min_weight_fraction_leaf=0.0,\n",
      "                                        n_estimators='warn', n_jobs=None,\n",
      "                                        oob_score=False, random_state=None,\n",
      "                                        verbose=0, warm_start=False))],\n",
      "         verbose=False)\n"
     ]
    },
    {
     "name": "stderr",
     "output_type": "stream",
     "text": [
      "C:\\Users\\lidij\\AppData\\Local\\Continuum\\anaconda3\\lib\\site-packages\\sklearn\\ensemble\\forest.py:245: FutureWarning: The default value of n_estimators will change from 10 in version 0.20 to 100 in 0.22.\n",
      "  \"10 in version 0.20 to 100 in 0.22.\", FutureWarning)\n",
      "C:\\Users\\lidij\\AppData\\Local\\Continuum\\anaconda3\\lib\\site-packages\\sklearn\\ensemble\\forest.py:245: FutureWarning: The default value of n_estimators will change from 10 in version 0.20 to 100 in 0.22.\n",
      "  \"10 in version 0.20 to 100 in 0.22.\", FutureWarning)\n",
      "C:\\Users\\lidij\\AppData\\Local\\Continuum\\anaconda3\\lib\\site-packages\\sklearn\\ensemble\\forest.py:245: FutureWarning: The default value of n_estimators will change from 10 in version 0.20 to 100 in 0.22.\n",
      "  \"10 in version 0.20 to 100 in 0.22.\", FutureWarning)\n",
      "C:\\Users\\lidij\\AppData\\Local\\Continuum\\anaconda3\\lib\\site-packages\\sklearn\\ensemble\\forest.py:245: FutureWarning: The default value of n_estimators will change from 10 in version 0.20 to 100 in 0.22.\n",
      "  \"10 in version 0.20 to 100 in 0.22.\", FutureWarning)\n",
      "C:\\Users\\lidij\\AppData\\Local\\Continuum\\anaconda3\\lib\\site-packages\\sklearn\\ensemble\\forest.py:245: FutureWarning: The default value of n_estimators will change from 10 in version 0.20 to 100 in 0.22.\n",
      "  \"10 in version 0.20 to 100 in 0.22.\", FutureWarning)\n"
     ]
    },
    {
     "name": "stdout",
     "output_type": "stream",
     "text": [
      "Random Forest pipeline test accuracy: 0.348, f1_macro: 0.336\n",
      "Pipeline(memory=None,\n",
      "         steps=[('count_vectorizer',\n",
      "                 CountVectorizer(analyzer='word', binary=False,\n",
      "                                 decode_error='strict',\n",
      "                                 dtype=<class 'numpy.int64'>, encoding='utf-8',\n",
      "                                 input='content', lowercase=True, max_df=1.0,\n",
      "                                 max_features=None, min_df=1,\n",
      "                                 ngram_range=(1, 1), preprocessor=None,\n",
      "                                 stop_words=None, strip_accents=None,\n",
      "                                 token_pattern='(?u)\\\\b\\\\w\\\\w+\\\\b',\n",
      "                                 tokenizer=None, vocabulary=None)),\n",
      "                ('tfidf_vectorizer',\n",
      "                 TfidfTransformer(norm='l2', smooth_idf=True,\n",
      "                                  sublinear_tf=False, use_idf=True)),\n",
      "                ('clf',\n",
      "                 AdaBoostClassifier(algorithm='SAMME.R', base_estimator=None,\n",
      "                                    learning_rate=0.3, n_estimators=50,\n",
      "                                    random_state=None))],\n",
      "         verbose=False)\n",
      "ADA pipeline test accuracy: 0.364, f1_macro: 0.366\n",
      "Pipeline(memory=None,\n",
      "         steps=[('count_vectorizer',\n",
      "                 CountVectorizer(analyzer='word', binary=False,\n",
      "                                 decode_error='strict',\n",
      "                                 dtype=<class 'numpy.int64'>, encoding='utf-8',\n",
      "                                 input='content', lowercase=True, max_df=1.0,\n",
      "                                 max_features=None, min_df=1,\n",
      "                                 ngram_range=(1, 1), preprocessor=None,\n",
      "                                 stop_words=None, strip_accents=None,\n",
      "                                 token_pattern='(?u)\\\\b\\\\w\\\\w+\\\\b',\n",
      "                                 tokenizer=None, vocabulary=None)),\n",
      "                ('tfidf_vectorizer',\n",
      "                 TfidfTransformer(norm='l2', smooth_idf=True,\n",
      "                                  sublinear_tf=False, use_idf=True)),\n",
      "                ('clf',\n",
      "                 KNeighborsClassifier(algorithm='auto', leaf_size=30,\n",
      "                                      metric='minkowski', metric_params=None,\n",
      "                                      n_jobs=None, n_neighbors=5, p=2,\n",
      "                                      weights='uniform'))],\n",
      "         verbose=False)\n",
      "KNN pipeline test accuracy: 0.267, f1_macro: 0.269\n",
      "Pipeline(memory=None,\n",
      "         steps=[('count_vectorizer',\n",
      "                 CountVectorizer(analyzer='word', binary=False,\n",
      "                                 decode_error='strict',\n",
      "                                 dtype=<class 'numpy.int64'>, encoding='utf-8',\n",
      "                                 input='content', lowercase=True, max_df=1.0,\n",
      "                                 max_features=None, min_df=1,\n",
      "                                 ngram_range=(1, 1), preprocessor=None,\n",
      "                                 stop_words=None, strip_accents=None,\n",
      "                                 token_pattern='(?u)\\\\b\\\\w\\\\w+\\\\b',\n",
      "                                 tokenizer=None, vo...\n",
      "                ('clf',\n",
      "                 SGDClassifier(alpha=0.001, average=False, class_weight=None,\n",
      "                               early_stopping=False, epsilon=0.1, eta0=0.0,\n",
      "                               fit_intercept=True, l1_ratio=0.15,\n",
      "                               learning_rate='optimal', loss='hinge',\n",
      "                               max_iter=5, n_iter_no_change=5, n_jobs=None,\n",
      "                               penalty='l2', power_t=0.5, random_state=42,\n",
      "                               shuffle=True, tol=None, validation_fraction=0.1,\n",
      "                               verbose=0, warm_start=False))],\n",
      "         verbose=False)\n",
      "SGD pipeline test accuracy: 0.423, f1_macro: 0.382\n",
      "Pipeline(memory=None,\n",
      "         steps=[('count_vectorizer',\n",
      "                 CountVectorizer(analyzer='word', binary=False,\n",
      "                                 decode_error='strict',\n",
      "                                 dtype=<class 'numpy.int64'>, encoding='utf-8',\n",
      "                                 input='content', lowercase=True, max_df=1.0,\n",
      "                                 max_features=None, min_df=1,\n",
      "                                 ngram_range=(1, 1), preprocessor=None,\n",
      "                                 stop_words=None, strip_accents=None,\n",
      "                                 token_pattern='(?u)\\\\b\\\\w\\\\w+\\\\b',\n",
      "                                 tokenizer=None, vo...ry=None)),\n",
      "                ('tfidf_vectorizer',\n",
      "                 TfidfTransformer(norm='l2', smooth_idf=True,\n",
      "                                  sublinear_tf=False, use_idf=True)),\n",
      "                ('clf',\n",
      "                 SVC(C=1.0, cache_size=200, class_weight=None, coef0=0.0,\n",
      "                     decision_function_shape='ovr', degree=3,\n",
      "                     gamma='auto_deprecated', kernel='linear', max_iter=-1,\n",
      "                     probability=False, random_state=None, shrinking=True,\n",
      "                     tol=0.001, verbose=False))],\n",
      "         verbose=False)\n",
      "SVM pipeline test accuracy: 0.437, f1_macro: 0.434\n"
     ]
    }
   ],
   "source": [
    "scores_stem = classify(stemmed_lyrics)"
   ]
  },
  {
   "cell_type": "code",
   "execution_count": 134,
   "metadata": {},
   "outputs": [],
   "source": [
    "for (key, val) in scores_stem.items():\n",
    "    for (k, v) in val.items():\n",
    "        a = v.mean()\n",
    "        val[k] = a"
   ]
  },
  {
   "cell_type": "code",
   "execution_count": 135,
   "metadata": {},
   "outputs": [
    {
     "data": {
      "text/plain": [
       "{'Multinomial NB': {'fit_time': 2.5699784755706787,\n",
       "  'score_time': 2.4786211490631103,\n",
       "  'test_f1_micro': 0.4306835637480798,\n",
       "  'test_f1_macro': 0.39176256844996127,\n",
       "  'test_precision_macro': 0.43014869732299915,\n",
       "  'test_recall_macro': 0.4306835637480798},\n",
       " 'Gboost': {'fit_time': 447.0140353679657,\n",
       "  'score_time': 2.8001992225646974,\n",
       "  'test_f1_micro': 0.41390168970814134,\n",
       "  'test_f1_macro': 0.4107132798499623,\n",
       "  'test_precision_macro': 0.4104746193412561,\n",
       "  'test_recall_macro': 0.41390168970814134},\n",
       " 'Random Forest': {'fit_time': 12.163918828964233,\n",
       "  'score_time': 2.679413604736328,\n",
       "  'test_f1_micro': 0.34796466973886325,\n",
       "  'test_f1_macro': 0.3360896421264515,\n",
       "  'test_precision_macro': 0.3353933525656954,\n",
       "  'test_recall_macro': 0.34796466973886325},\n",
       " 'ADA': {'fit_time': 18.39857420921326,\n",
       "  'score_time': 3.6190205097198485,\n",
       "  'test_f1_micro': 0.3637480798771121,\n",
       "  'test_f1_macro': 0.36553409258848213,\n",
       "  'test_precision_macro': 0.38396708796540885,\n",
       "  'test_recall_macro': 0.3637480798771121},\n",
       " 'KNN': {'fit_time': 2.492381238937378,\n",
       "  'score_time': 35.189207029342654,\n",
       "  'test_f1_micro': 0.26655145929339474,\n",
       "  'test_f1_macro': 0.2688930686248735,\n",
       "  'test_precision_macro': 0.29847099462187054,\n",
       "  'test_recall_macro': 0.26655145929339474},\n",
       " 'SGD': {'fit_time': 2.928575038909912,\n",
       "  'score_time': 2.4080148220062254,\n",
       "  'test_f1_micro': 0.42304147465437786,\n",
       "  'test_f1_macro': 0.38191579141020476,\n",
       "  'test_precision_macro': 0.383408830864841,\n",
       "  'test_recall_macro': 0.42304147465437786},\n",
       " 'SVM': {'fit_time': 348.6296000480652,\n",
       "  'score_time': 259.2789609909058,\n",
       "  'test_f1_micro': 0.4372503840245775,\n",
       "  'test_f1_macro': 0.43449427934013346,\n",
       "  'test_precision_macro': 0.4349577678427547,\n",
       "  'test_recall_macro': 0.4372503840245776}}"
      ]
     },
     "execution_count": 135,
     "metadata": {},
     "output_type": "execute_result"
    }
   ],
   "source": [
    "scores_stem"
   ]
  },
  {
   "cell_type": "code",
   "execution_count": 63,
   "metadata": {},
   "outputs": [
    {
     "name": "stdout",
     "output_type": "stream",
     "text": [
      "Pipeline(memory=None,\n",
      "         steps=[('count_vectorizer',\n",
      "                 CountVectorizer(analyzer='word', binary=False,\n",
      "                                 decode_error='strict',\n",
      "                                 dtype=<class 'numpy.int64'>, encoding='utf-8',\n",
      "                                 input='content', lowercase=True, max_df=1.0,\n",
      "                                 max_features=None, min_df=1,\n",
      "                                 ngram_range=(1, 1), preprocessor=None,\n",
      "                                 stop_words=None, strip_accents=None,\n",
      "                                 token_pattern='(?u)\\\\b\\\\w\\\\w+\\\\b',\n",
      "                                 tokenizer=None, vocabulary=None)),\n",
      "                ('tfidf_vectorizer',\n",
      "                 TfidfTransformer(norm='l2', smooth_idf=True,\n",
      "                                  sublinear_tf=False, use_idf=True)),\n",
      "                ('clf',\n",
      "                 MultinomialNB(alpha=1.0, class_prior=None, fit_prior=True))],\n",
      "         verbose=False)\n",
      "Multinomial NB pipeline test accuracy: 0.426, f1_macro: 0.388\n",
      "Pipeline(memory=None,\n",
      "         steps=[('count_vectorizer',\n",
      "                 CountVectorizer(analyzer='word', binary=False,\n",
      "                                 decode_error='strict',\n",
      "                                 dtype=<class 'numpy.int64'>, encoding='utf-8',\n",
      "                                 input='content', lowercase=True, max_df=1.0,\n",
      "                                 max_features=None, min_df=1,\n",
      "                                 ngram_range=(1, 1), preprocessor=None,\n",
      "                                 stop_words=None, strip_accents=None,\n",
      "                                 token_pattern='(?u)\\\\b\\\\w\\\\w+\\\\b',\n",
      "                                 tokenizer=None, vo...\n",
      "                                            learning_rate=0.3, loss='deviance',\n",
      "                                            max_depth=3, max_features=None,\n",
      "                                            max_leaf_nodes=None,\n",
      "                                            min_impurity_decrease=0.0,\n",
      "                                            min_impurity_split=None,\n",
      "                                            min_samples_leaf=1,\n",
      "                                            min_samples_split=2,\n",
      "                                            min_weight_fraction_leaf=0.0,\n",
      "                                            n_estimators=100,\n",
      "                                            n_iter_no_change=None,\n",
      "                                            presort='auto', random_state=None,\n",
      "                                            subsample=1.0, tol=0.0001,\n",
      "                                            validation_fraction=0.1, verbose=0,\n",
      "                                            warm_start=False))],\n",
      "         verbose=False)\n",
      "Gboost pipeline test accuracy: 0.413, f1_macro: 0.409\n",
      "Pipeline(memory=None,\n",
      "         steps=[('count_vectorizer',\n",
      "                 CountVectorizer(analyzer='word', binary=False,\n",
      "                                 decode_error='strict',\n",
      "                                 dtype=<class 'numpy.int64'>, encoding='utf-8',\n",
      "                                 input='content', lowercase=True, max_df=1.0,\n",
      "                                 max_features=None, min_df=1,\n",
      "                                 ngram_range=(1, 1), preprocessor=None,\n",
      "                                 stop_words=None, strip_accents=None,\n",
      "                                 token_pattern='(?u)\\\\b\\\\w\\\\w+\\\\b',\n",
      "                                 tokenizer=None, vo...\n",
      "                 RandomForestClassifier(bootstrap=True, class_weight=None,\n",
      "                                        criterion='gini', max_depth=None,\n",
      "                                        max_features='auto',\n",
      "                                        max_leaf_nodes=None,\n",
      "                                        min_impurity_decrease=0.0,\n",
      "                                        min_impurity_split=None,\n",
      "                                        min_samples_leaf=1, min_samples_split=2,\n",
      "                                        min_weight_fraction_leaf=0.0,\n",
      "                                        n_estimators='warn', n_jobs=None,\n",
      "                                        oob_score=False, random_state=None,\n",
      "                                        verbose=0, warm_start=False))],\n",
      "         verbose=False)\n"
     ]
    },
    {
     "name": "stderr",
     "output_type": "stream",
     "text": [
      "C:\\Users\\lidij\\AppData\\Local\\Continuum\\anaconda3\\lib\\site-packages\\sklearn\\ensemble\\forest.py:245: FutureWarning: The default value of n_estimators will change from 10 in version 0.20 to 100 in 0.22.\n",
      "  \"10 in version 0.20 to 100 in 0.22.\", FutureWarning)\n",
      "C:\\Users\\lidij\\AppData\\Local\\Continuum\\anaconda3\\lib\\site-packages\\sklearn\\ensemble\\forest.py:245: FutureWarning: The default value of n_estimators will change from 10 in version 0.20 to 100 in 0.22.\n",
      "  \"10 in version 0.20 to 100 in 0.22.\", FutureWarning)\n",
      "C:\\Users\\lidij\\AppData\\Local\\Continuum\\anaconda3\\lib\\site-packages\\sklearn\\ensemble\\forest.py:245: FutureWarning: The default value of n_estimators will change from 10 in version 0.20 to 100 in 0.22.\n",
      "  \"10 in version 0.20 to 100 in 0.22.\", FutureWarning)\n",
      "C:\\Users\\lidij\\AppData\\Local\\Continuum\\anaconda3\\lib\\site-packages\\sklearn\\ensemble\\forest.py:245: FutureWarning: The default value of n_estimators will change from 10 in version 0.20 to 100 in 0.22.\n",
      "  \"10 in version 0.20 to 100 in 0.22.\", FutureWarning)\n",
      "C:\\Users\\lidij\\AppData\\Local\\Continuum\\anaconda3\\lib\\site-packages\\sklearn\\ensemble\\forest.py:245: FutureWarning: The default value of n_estimators will change from 10 in version 0.20 to 100 in 0.22.\n",
      "  \"10 in version 0.20 to 100 in 0.22.\", FutureWarning)\n"
     ]
    },
    {
     "name": "stdout",
     "output_type": "stream",
     "text": [
      "Random Forest pipeline test accuracy: 0.349, f1_macro: 0.337\n",
      "Pipeline(memory=None,\n",
      "         steps=[('count_vectorizer',\n",
      "                 CountVectorizer(analyzer='word', binary=False,\n",
      "                                 decode_error='strict',\n",
      "                                 dtype=<class 'numpy.int64'>, encoding='utf-8',\n",
      "                                 input='content', lowercase=True, max_df=1.0,\n",
      "                                 max_features=None, min_df=1,\n",
      "                                 ngram_range=(1, 1), preprocessor=None,\n",
      "                                 stop_words=None, strip_accents=None,\n",
      "                                 token_pattern='(?u)\\\\b\\\\w\\\\w+\\\\b',\n",
      "                                 tokenizer=None, vocabulary=None)),\n",
      "                ('tfidf_vectorizer',\n",
      "                 TfidfTransformer(norm='l2', smooth_idf=True,\n",
      "                                  sublinear_tf=False, use_idf=True)),\n",
      "                ('clf',\n",
      "                 AdaBoostClassifier(algorithm='SAMME.R', base_estimator=None,\n",
      "                                    learning_rate=0.3, n_estimators=50,\n",
      "                                    random_state=None))],\n",
      "         verbose=False)\n",
      "ADA pipeline test accuracy: 0.364, f1_macro: 0.368\n",
      "Pipeline(memory=None,\n",
      "         steps=[('count_vectorizer',\n",
      "                 CountVectorizer(analyzer='word', binary=False,\n",
      "                                 decode_error='strict',\n",
      "                                 dtype=<class 'numpy.int64'>, encoding='utf-8',\n",
      "                                 input='content', lowercase=True, max_df=1.0,\n",
      "                                 max_features=None, min_df=1,\n",
      "                                 ngram_range=(1, 1), preprocessor=None,\n",
      "                                 stop_words=None, strip_accents=None,\n",
      "                                 token_pattern='(?u)\\\\b\\\\w\\\\w+\\\\b',\n",
      "                                 tokenizer=None, vocabulary=None)),\n",
      "                ('tfidf_vectorizer',\n",
      "                 TfidfTransformer(norm='l2', smooth_idf=True,\n",
      "                                  sublinear_tf=False, use_idf=True)),\n",
      "                ('clf',\n",
      "                 KNeighborsClassifier(algorithm='auto', leaf_size=30,\n",
      "                                      metric='minkowski', metric_params=None,\n",
      "                                      n_jobs=None, n_neighbors=5, p=2,\n",
      "                                      weights='uniform'))],\n",
      "         verbose=False)\n",
      "KNN pipeline test accuracy: 0.263, f1_macro: 0.264\n",
      "Pipeline(memory=None,\n",
      "         steps=[('count_vectorizer',\n",
      "                 CountVectorizer(analyzer='word', binary=False,\n",
      "                                 decode_error='strict',\n",
      "                                 dtype=<class 'numpy.int64'>, encoding='utf-8',\n",
      "                                 input='content', lowercase=True, max_df=1.0,\n",
      "                                 max_features=None, min_df=1,\n",
      "                                 ngram_range=(1, 1), preprocessor=None,\n",
      "                                 stop_words=None, strip_accents=None,\n",
      "                                 token_pattern='(?u)\\\\b\\\\w\\\\w+\\\\b',\n",
      "                                 tokenizer=None, vo...\n",
      "                ('clf',\n",
      "                 SGDClassifier(alpha=0.001, average=False, class_weight=None,\n",
      "                               early_stopping=False, epsilon=0.1, eta0=0.0,\n",
      "                               fit_intercept=True, l1_ratio=0.15,\n",
      "                               learning_rate='optimal', loss='hinge',\n",
      "                               max_iter=5, n_iter_no_change=5, n_jobs=None,\n",
      "                               penalty='l2', power_t=0.5, random_state=42,\n",
      "                               shuffle=True, tol=None, validation_fraction=0.1,\n",
      "                               verbose=0, warm_start=False))],\n",
      "         verbose=False)\n",
      "SGD pipeline test accuracy: 0.422, f1_macro: 0.381\n",
      "Pipeline(memory=None,\n",
      "         steps=[('count_vectorizer',\n",
      "                 CountVectorizer(analyzer='word', binary=False,\n",
      "                                 decode_error='strict',\n",
      "                                 dtype=<class 'numpy.int64'>, encoding='utf-8',\n",
      "                                 input='content', lowercase=True, max_df=1.0,\n",
      "                                 max_features=None, min_df=1,\n",
      "                                 ngram_range=(1, 1), preprocessor=None,\n",
      "                                 stop_words=None, strip_accents=None,\n",
      "                                 token_pattern='(?u)\\\\b\\\\w\\\\w+\\\\b',\n",
      "                                 tokenizer=None, vo...ry=None)),\n",
      "                ('tfidf_vectorizer',\n",
      "                 TfidfTransformer(norm='l2', smooth_idf=True,\n",
      "                                  sublinear_tf=False, use_idf=True)),\n",
      "                ('clf',\n",
      "                 SVC(C=1.0, cache_size=200, class_weight=None, coef0=0.0,\n",
      "                     decision_function_shape='ovr', degree=3,\n",
      "                     gamma='auto_deprecated', kernel='linear', max_iter=-1,\n",
      "                     probability=False, random_state=None, shrinking=True,\n",
      "                     tol=0.001, verbose=False))],\n",
      "         verbose=False)\n",
      "SVM pipeline test accuracy: 0.435, f1_macro: 0.432\n"
     ]
    }
   ],
   "source": [
    "scores_lem = classify(lemmatized_lyrics)"
   ]
  },
  {
   "cell_type": "code",
   "execution_count": 84,
   "metadata": {
    "colab": {},
    "colab_type": "code",
    "id": "_j5v4DTrliy1",
    "outputId": "2261a07a-8146-4d4e-a072-1ba28b348348"
   },
   "outputs": [],
   "source": [
    "from matplotlib.ticker import MaxNLocator\n",
    "from collections import namedtuple\n",
    "\n",
    "def plot_results(metric='test_f1_micro'):\n",
    "\n",
    "    models = list(scores.keys())\n",
    "    accuracy_lem = [val[metric].mean() for (key, val) in scores_lem.items()]\n",
    "    accuracy_stem = [val[metric].mean() for (key, val) in scores_stem.items()]\n",
    "    # accuracy_lem = [0.1, 0.2, 0.3, 0.4, 0.5, 0.6, 0.7]\n",
    "    # accuracy_stem = [0.2, 0.3, 0.4, 0.5, 0.6, 0.7, 0.8]\n",
    "\n",
    "    fig, ax = plt.subplots(figsize = (14, 8))\n",
    "    index = np.arange(len(models))\n",
    "    bar_width = 0.3\n",
    "\n",
    "    opacity = 0.5\n",
    "    error_config = {'ecolor': '0.3'}\n",
    "\n",
    "    lemmed_bars = ax.bar(index, accuracy_lem, bar_width,\n",
    "                    alpha=opacity, color='b',\n",
    "                    label='Lemmatized')\n",
    "\n",
    "    stemmed_bars = ax.bar(index + bar_width, accuracy_stem, bar_width,\n",
    "                    alpha=opacity, color='r',\n",
    "                    label='Stemmed')\n",
    "\n",
    "    ax.set_xlabel('Model', fontsize = 14)\n",
    "    ax.set_ylabel('Accuracy', fontsize = 14)\n",
    "    ax.set_title('Stemmed vs. Lemmatized ' + metric + ' comparison',  fontsize = 18)\n",
    "    ax.set_xticks(index + bar_width / 2)\n",
    "    ax.set_xticklabels(models)\n",
    "\n",
    "    plt.axhline(y=0.125, color='#17CA83', linestyle='-', label = \"Random Guessing\")\n",
    "    ax.legend()\n",
    "\n",
    "\n",
    "    plt.show()"
   ]
  },
  {
   "cell_type": "code",
   "execution_count": 86,
   "metadata": {},
   "outputs": [
    {
     "data": {
      "image/png": "[encoded data removed]",
      "text/plain": [
       "<Figure size 1008x576 with 1 Axes>"
      ]
     },
     "metadata": {
      "needs_background": "light"
     },
     "output_type": "display_data"
    },
    {
     "data": {
      "image/png": "[encoded data removed]",
      "text/plain": [
       "<Figure size 1008x576 with 1 Axes>"
      ]
     },
     "metadata": {
      "needs_background": "light"
     },
     "output_type": "display_data"
    },
    {
     "data": {
      "image/png": "[encoded data removed]",
      "text/plain": [
       "<Figure size 1008x576 with 1 Axes>"
      ]
     },
     "metadata": {
      "needs_background": "light"
     },
     "output_type": "display_data"
    },
    {
     "data": {
      "image/png": "[encoded data removed]",
      "text/plain": [
       "<Figure size 1008x576 with 1 Axes>"
      ]
     },
     "metadata": {
      "needs_background": "light"
     },
     "output_type": "display_data"
    },
    {
     "data": {
      "image/png": "[encoded data removed]",
      "text/plain": [
       "<Figure size 1008x576 with 1 Axes>"
      ]
     },
     "metadata": {
      "needs_background": "light"
     },
     "output_type": "display_data"
    },
    {
     "data": {
      "image/png": "[encoded data removed]",
      "text/plain": [
       "<Figure size 1008x576 with 1 Axes>"
      ]
     },
     "metadata": {
      "needs_background": "light"
     },
     "output_type": "display_data"
    }
   ],
   "source": [
    "metrics = list(scores_lem['Multinomial NB'].keys())\n",
    "for metric in metrics:\n",
    "    plot_results(metric)"
   ]
  },
  {
   "cell_type": "markdown",
   "metadata": {
    "colab_type": "text",
    "id": "vlV0Z5VQliy_"
   },
   "source": [
    "### We decided to pick Stemmed over Lemmatized and top three models for further optimization"
   ]
  },
  {
   "cell_type": "markdown",
   "metadata": {
    "colab_type": "text",
    "id": "uHA6WRBSlizB"
   },
   "source": [
    "1. SVM (0.437)\n",
    "2. Multinomial NB (0.431)\n",
    "3. GBoost (0.414)"
   ]
  },
  {
   "cell_type": "markdown",
   "metadata": {
    "colab_type": "text",
    "id": "JRJ78wZflizC"
   },
   "source": [
    "### Next we want to try using PCA to improve performance and reduce dimentionality --> google colab"
   ]
  },
  {
   "cell_type": "code",
   "execution_count": 98,
   "metadata": {},
   "outputs": [
    {
     "data": {
      "text/html": [
       "<div>\n",
       "<style scoped>\n",
       "    .dataframe tbody tr th:only-of-type {\n",
       "        vertical-align: middle;\n",
       "    }\n",
       "\n",
       "    .dataframe tbody tr th {\n",
       "        vertical-align: top;\n",
       "    }\n",
       "\n",
       "    .dataframe thead th {\n",
       "        text-align: right;\n",
       "    }\n",
       "</style>\n",
       "<table border=\"1\" class=\"dataframe\">\n",
       "  <thead>\n",
       "    <tr style=\"text-align: right;\">\n",
       "      <th></th>\n",
       "      <th>stemmed</th>\n",
       "      <th>genre</th>\n",
       "    </tr>\n",
       "  </thead>\n",
       "  <tbody>\n",
       "    <tr>\n",
       "      <td>0</td>\n",
       "      <td>your everyth thought never noth like thought c...</td>\n",
       "      <td>Pop</td>\n",
       "    </tr>\n",
       "    <tr>\n",
       "      <td>1</td>\n",
       "      <td>bodi magnifi sun set alight bodi delight burn ...</td>\n",
       "      <td>Pop</td>\n",
       "    </tr>\n",
       "    <tr>\n",
       "      <td>2</td>\n",
       "      <td>i'm matriarch land oh need take hand come arm ...</td>\n",
       "      <td>Pop</td>\n",
       "    </tr>\n",
       "    <tr>\n",
       "      <td>3</td>\n",
       "      <td>vers i'm penthous half nake cook meal nake hel...</td>\n",
       "      <td>Pop</td>\n",
       "    </tr>\n",
       "    <tr>\n",
       "      <td>4</td>\n",
       "      <td>everi step make everi breath take took caus ca...</td>\n",
       "      <td>Pop</td>\n",
       "    </tr>\n",
       "  </tbody>\n",
       "</table>\n",
       "</div>"
      ],
      "text/plain": [
       "                                             stemmed genre\n",
       "0  your everyth thought never noth like thought c...   Pop\n",
       "1  bodi magnifi sun set alight bodi delight burn ...   Pop\n",
       "2  i'm matriarch land oh need take hand come arm ...   Pop\n",
       "3  vers i'm penthous half nake cook meal nake hel...   Pop\n",
       "4  everi step make everi breath take took caus ca...   Pop"
      ]
     },
     "execution_count": 98,
     "metadata": {},
     "output_type": "execute_result"
    }
   ],
   "source": [
    "stemmed_df = pd.DataFrame(data=zip(stemmed_lyrics, df.genre.values), columns=['stemmed', 'genre'])\n",
    "stemmed_df.to_csv('stemmed_for_pca.csv', encoding='utf-8')\n",
    "stemmed_df.head()"
   ]
  },
  {
   "cell_type": "markdown",
   "metadata": {
    "colab_type": "text",
    "id": "obWT2Q7bliz2"
   },
   "source": [
    "### Memory error here and in google colab, decide to drop the idea of using PCA"
   ]
  },
  {
   "cell_type": "markdown",
   "metadata": {
    "colab_type": "text",
    "id": "CNjHLTSkliz3"
   },
   "source": [
    "## Let's use GridSearch to try to optimize our  top 3 models!"
   ]
  },
  {
   "cell_type": "code",
   "execution_count": 5,
   "metadata": {},
   "outputs": [],
   "source": [
    "X_train, X_test, y_train, y_test = train_test_split(stemmed_lyrics, df.genre, test_size=0.2, random_state=18) "
   ]
  },
  {
   "cell_type": "markdown",
   "metadata": {
    "colab_type": "text",
    "id": "QlzqE3voliz7"
   },
   "source": [
    "### Grid Search SGD"
   ]
  },
  {
   "cell_type": "code",
   "execution_count": 114,
   "metadata": {
    "colab": {},
    "colab_type": "code",
    "id": "vKv_hi9Hliz7",
    "outputId": "892e6d85-849d-4b63-e157-ed7f338dc90a",
    "scrolled": true
   },
   "outputs": [
    {
     "data": {
      "text/plain": [
       "GridSearchCV(cv=3, error_score='raise-deprecating',\n",
       "             estimator=Pipeline(memory=None,\n",
       "                                steps=[('count_vectorizer',\n",
       "                                        CountVectorizer(analyzer='word',\n",
       "                                                        binary=False,\n",
       "                                                        decode_error='strict',\n",
       "                                                        dtype=<class 'numpy.int64'>,\n",
       "                                                        encoding='utf-8',\n",
       "                                                        input='content',\n",
       "                                                        lowercase=True,\n",
       "                                                        max_df=1.0,\n",
       "                                                        max_features=None,\n",
       "                                                        min_df=1,\n",
       "                                                        ngram_range=(1, 1),\n",
       "                                                        preprocessor=None,\n",
       "                                                        stop_words=None,\n",
       "                                                        strip_acce...\n",
       "                                                      shuffle=True, tol=0.001,\n",
       "                                                      validation_fraction=0.1,\n",
       "                                                      verbose=0,\n",
       "                                                      warm_start=False))],\n",
       "                                verbose=False),\n",
       "             iid='warn', n_jobs=None,\n",
       "             param_grid={'clf__alpha': [0.0001, 0.001, 0.01, 0.1, 1.0, 10.0,\n",
       "                                        100.0, 1000.0],\n",
       "                         'clf__loss': ['log'], 'clf__max_iter': [1000],\n",
       "                         'clf__n_jobs': [-1], 'clf__penalty': ['l2']},\n",
       "             pre_dispatch='2*n_jobs', refit=True, return_train_score=False,\n",
       "             scoring='accuracy', verbose=0)"
      ]
     },
     "execution_count": 114,
     "metadata": {},
     "output_type": "execute_result"
    }
   ],
   "source": [
    "GS_pipe_SGD = Pipeline([('count_vectorizer', CountVectorizer()), \n",
    "                     ('tfidf_vectorizer', TfidfTransformer()),\n",
    "                     ('clf', SGDClassifier()),\n",
    "                    ])\n",
    "\n",
    "# sorted(GS_pipe_SGD.get_params().keys())\n",
    "\n",
    "SGD_param_grid = {\n",
    "    'clf__alpha': [1e-4, 1e-3, 1e-2, 1e-1, 1e0, 1e1, 1e2, 1e3], # learning rate\n",
    "    'clf__max_iter': [1000], # number of epochs\n",
    "    'clf__loss': ['log'], # logistic regression,\n",
    "    'clf__penalty': ['l2'],\n",
    "    'clf__n_jobs': [-1]\n",
    "}\n",
    "\n",
    "gs_SGD = GridSearchCV(estimator=GS_pipe_SGD,\n",
    "            param_grid=SGD_param_grid,\n",
    "            scoring='accuracy',\n",
    "            cv=3)\n",
    "\n",
    "gs_SGD.fit(X_train, y_train)"
   ]
  },
  {
   "cell_type": "code",
   "execution_count": 115,
   "metadata": {
    "colab": {},
    "colab_type": "code",
    "id": "UwZk5KMPli0A",
    "outputId": "469d1dcf-f9d9-4aa0-a3b2-26829bef3472",
    "scrolled": true
   },
   "outputs": [
    {
     "data": {
      "text/plain": [
       "{'mean_fit_time': array([2.05449263, 1.97333845, 1.92829903, 2.81365498, 2.28097471,\n",
       "        2.26965253, 1.89797902, 1.8279899 ]),\n",
       " 'std_fit_time': array([0.10391731, 0.11728275, 0.04398837, 0.54753551, 0.32593393,\n",
       "        0.62465241, 0.08045169, 0.04674768]),\n",
       " 'mean_score_time': array([0.90052732, 0.89001934, 0.84202425, 1.28751524, 1.05101236,\n",
       "        0.86802332, 0.84701943, 0.85767913]),\n",
       " 'std_score_time': array([0.04512575, 0.02556677, 0.02571455, 0.34046754, 0.27224251,\n",
       "        0.01434733, 0.01203427, 0.02034747]),\n",
       " 'param_clf__alpha': masked_array(data=[0.0001, 0.001, 0.01, 0.1, 1.0, 10.0, 100.0, 1000.0],\n",
       "              mask=[False, False, False, False, False, False, False, False],\n",
       "        fill_value='?',\n",
       "             dtype=object),\n",
       " 'param_clf__loss': masked_array(data=['log', 'log', 'log', 'log', 'log', 'log', 'log', 'log'],\n",
       "              mask=[False, False, False, False, False, False, False, False],\n",
       "        fill_value='?',\n",
       "             dtype=object),\n",
       " 'param_clf__max_iter': masked_array(data=[1000, 1000, 1000, 1000, 1000, 1000, 1000, 1000],\n",
       "              mask=[False, False, False, False, False, False, False, False],\n",
       "        fill_value='?',\n",
       "             dtype=object),\n",
       " 'param_clf__n_jobs': masked_array(data=[-1, -1, -1, -1, -1, -1, -1, -1],\n",
       "              mask=[False, False, False, False, False, False, False, False],\n",
       "        fill_value='?',\n",
       "             dtype=object),\n",
       " 'param_clf__penalty': masked_array(data=['l2', 'l2', 'l2', 'l2', 'l2', 'l2', 'l2', 'l2'],\n",
       "              mask=[False, False, False, False, False, False, False, False],\n",
       "        fill_value='?',\n",
       "             dtype=object),\n",
       " 'params': [{'clf__alpha': 0.0001,\n",
       "   'clf__loss': 'log',\n",
       "   'clf__max_iter': 1000,\n",
       "   'clf__n_jobs': -1,\n",
       "   'clf__penalty': 'l2'},\n",
       "  {'clf__alpha': 0.001,\n",
       "   'clf__loss': 'log',\n",
       "   'clf__max_iter': 1000,\n",
       "   'clf__n_jobs': -1,\n",
       "   'clf__penalty': 'l2'},\n",
       "  {'clf__alpha': 0.01,\n",
       "   'clf__loss': 'log',\n",
       "   'clf__max_iter': 1000,\n",
       "   'clf__n_jobs': -1,\n",
       "   'clf__penalty': 'l2'},\n",
       "  {'clf__alpha': 0.1,\n",
       "   'clf__loss': 'log',\n",
       "   'clf__max_iter': 1000,\n",
       "   'clf__n_jobs': -1,\n",
       "   'clf__penalty': 'l2'},\n",
       "  {'clf__alpha': 1.0,\n",
       "   'clf__loss': 'log',\n",
       "   'clf__max_iter': 1000,\n",
       "   'clf__n_jobs': -1,\n",
       "   'clf__penalty': 'l2'},\n",
       "  {'clf__alpha': 10.0,\n",
       "   'clf__loss': 'log',\n",
       "   'clf__max_iter': 1000,\n",
       "   'clf__n_jobs': -1,\n",
       "   'clf__penalty': 'l2'},\n",
       "  {'clf__alpha': 100.0,\n",
       "   'clf__loss': 'log',\n",
       "   'clf__max_iter': 1000,\n",
       "   'clf__n_jobs': -1,\n",
       "   'clf__penalty': 'l2'},\n",
       "  {'clf__alpha': 1000.0,\n",
       "   'clf__loss': 'log',\n",
       "   'clf__max_iter': 1000,\n",
       "   'clf__n_jobs': -1,\n",
       "   'clf__penalty': 'l2'}],\n",
       " 'split0_test_score': array([0.46631155, 0.43924561, 0.40728477, 0.35617622, 0.12697956,\n",
       "        0.26130147, 0.14137633, 0.12726749]),\n",
       " 'split1_test_score': array([0.46658986, 0.4359159 , 0.41503456, 0.21457373, 0.12399194,\n",
       "        0.19383641, 0.12730415, 0.14314516]),\n",
       " 'split2_test_score': array([0.44900605, 0.41947566, 0.39383463, 0.20728897, 0.15816768,\n",
       "        0.12402766, 0.12460386, 0.15571881]),\n",
       " 'mean_test_score': array([0.46063748, 0.43154762, 0.40538594, 0.2593606 , 0.13637673,\n",
       "        0.19306836, 0.13109639, 0.14204109]),\n",
       " 'std_test_score': array([0.00822367, 0.00864192, 0.00875779, 0.06853831, 0.01545341,\n",
       "        0.05604443, 0.00735367, 0.01164141]),\n",
       " 'rank_test_score': array([1, 2, 3, 4, 7, 5, 8, 6])}"
      ]
     },
     "execution_count": 115,
     "metadata": {},
     "output_type": "execute_result"
    }
   ],
   "source": [
    "gs_SGD.cv_results_"
   ]
  },
  {
   "cell_type": "code",
   "execution_count": 116,
   "metadata": {
    "colab": {},
    "colab_type": "code",
    "id": "kzlf_U1Mli0F",
    "outputId": "42a3afde-d124-4870-f6a6-676483d225ba"
   },
   "outputs": [
    {
     "name": "stdout",
     "output_type": "stream",
     "text": [
      "Mean Training Score: 26.99%\n",
      "Mean Testing Score: 47.43%\n",
      "Best Parameter Combination Found During Grid Search: {'clf__alpha': 0.0001, 'clf__loss': 'log', 'clf__max_iter': 1000, 'clf__n_jobs': -1, 'clf__penalty': 'l2'}\n"
     ]
    }
   ],
   "source": [
    "dt_gs_test_score = np.mean(gs_SGD.cv_results_['mean_test_score'])\n",
    "dt_gs_testing_score = gs_SGD.score(X_test, y_test)\n",
    "\n",
    "print(\"Mean Training Score: {:.4}%\".format(dt_gs_test_score * 100))\n",
    "print(\"Mean Testing Score: {:.4}%\".format(dt_gs_testing_score * 100))\n",
    "print(\"Best Parameter Combination Found During Grid Search: {}\".format(gs_SGD.best_params_))"
   ]
  },
  {
   "cell_type": "code",
   "execution_count": 6,
   "metadata": {},
   "outputs": [
    {
     "name": "stdout",
     "output_type": "stream",
     "text": [
      "Mean Test Score: 43.99%\n",
      "Mean Testing Score: 45.89%\n",
      "Best Parameter Combination Found During Grid Search: {'clf__learning_rate': 0.25, 'clf__max_depth': 3, 'clf__min_samples_leaf': 6, 'clf__min_samples_split': 4, 'clf__n_estimators': 150}\n"
     ]
    }
   ],
   "source": [
    "GS_pipe_GB = Pipeline([('count_vectorizer', CountVectorizer()), \n",
    "                     ('tfidf_vectorizer', TfidfTransformer()),\n",
    "                     ('clf', GradientBoostingClassifier())\n",
    "                    ])\n",
    "\n",
    "GB_params = {\n",
    "    \"clf__learning_rate\": [0.2, 0.25],\n",
    "    \"clf__min_samples_split\": [4, 5],\n",
    "    \"clf__min_samples_leaf\": [6],\n",
    "    \"clf__max_depth\":[3],\n",
    "    \"clf__n_estimators\":[100, 150]\n",
    "    }\n",
    "\n",
    "gs_GB = GridSearchCV(estimator=GS_pipe_GB,\n",
    "            param_grid=GB_params,\n",
    "            scoring='accuracy',\n",
    "            cv=3)\n",
    "\n",
    "gs_GB.fit(X_train, y_train)\n",
    "\n",
    "dt_GB_test_score = np.mean(gs_GB.cv_results_['mean_test_score'])\n",
    "dt_GB_testing_score = gs_GB.score(X_test, y_test)\n",
    "\n",
    "print(\"Mean Test Score: {:.4}%\".format(dt_GB_test_score * 100))\n",
    "print(\"Mean Testing Score: {:.4}%\".format(dt_GB_testing_score * 100))\n",
    "print(\"Best Parameter Combination Found During Grid Search: {}\".format(gs_GB.best_params_))"
   ]
  }
 ],
 "metadata": {
  "colab": {
   "collapsed_sections": [
    "MBiW5kecliwy",
    "yi5ST7kwliw0",
    "veuyX18Vlixz",
    "vlV0Z5VQliy_",
    "JRJ78wZflizC",
    "mojo3RJOlizU",
    "RzuFve-Olizg",
    "ocj7jLGNlizl",
    "obWT2Q7bliz2",
    "QlzqE3voliz7",
    "hYJC8ZGkli0Q",
    "gSTryf5Ali1U",
    "duFMYVAWli1X",
    "2b2OWCzcli1Z"
   ],
   "name": "genre-classifier.ipynb",
   "provenance": [],
   "toc_visible": true
  },
  "kernelspec": {
   "display_name": "Python 3",
   "language": "python",
   "name": "python3"
  },
  "language_info": {
   "codemirror_mode": {
    "name": "ipython",
    "version": 3
   },
   "file_extension": ".py",
   "mimetype": "text/x-python",
   "name": "python",
   "nbconvert_exporter": "python",
   "pygments_lexer": "ipython3",
   "version": "3.7.4"
  }
 },
 "nbformat": 4,
 "nbformat_minor": 1
}
